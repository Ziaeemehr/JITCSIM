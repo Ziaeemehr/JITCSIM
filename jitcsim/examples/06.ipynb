{
 "cells": [
  {
   "cell_type": "markdown",
   "metadata": {},
   "source": [
    "# jitcsim tutorial"
   ]
  },
  {
   "cell_type": "markdown",
   "metadata": {},
   "source": [
    "### Simulation of the Kuramoto model \n",
    "- (Type I, look at the documentation).\n",
    "The parameter of the model is coupling.\n",
    "The initial phase also could be changed in repeated simulations.\n",
    "The output is plotting the Kuramoto order parameter vs time.\n",
    "\n",
    "For Type I oscillators on Feed Forward (Feed Back) loop, we expect to get high \n",
    "(low) values of the order parameters [1].\n",
    "\n",
    "[1] Ziaeemehr, A., Zarei, M. and Sheshbolouki, A., 2020. Emergence of global synchronization in directed excitatory networks of type I neurons. Scientific reports, 10(1), pp.1-11.\n"
   ]
  },
  {
   "cell_type": "code",
   "execution_count": 1,
   "metadata": {},
   "outputs": [],
   "source": [
    "import numpy as np\n",
    "from numpy import pi\n",
    "from numpy.random import uniform, normal\n",
    "from jitcsim.visualization import plot_order\n",
    "from jitcsim.models.kuramoto import Kuramoto_I"
   ]
  },
  {
   "cell_type": "code",
   "execution_count": 2,
   "metadata": {},
   "outputs": [],
   "source": [
    "np.random.seed(2)\n",
    "\n",
    "N = 3\n",
    "alpha0 = 0.0\n",
    "coupling0 = 2.0 / (N - 1)\n",
    "omega0 = normal(pi, 0.1, N)\n",
    "initial_state = uniform(-2*pi, 2*pi, N)\n",
    "\n",
    "FeedForward = np.asarray([[0, 0, 0],\n",
    "                          [1, 0, 0],\n",
    "                          [1, 1, 0]])\n",
    "FeedBack = np.asarray([[0, 0, 1],\n",
    "                       [1, 0, 0],\n",
    "                       [0, 1, 0]])\n",
    "\n",
    "parameters = {\n",
    "    'N': N,                             # number of nodes\n",
    "    'adj': FeedForward,                 # adjacency matrix\n",
    "    # \"adj\": FeedBack,\n",
    "    't_initial': 0.,                    # initial time of integration\n",
    "    \"t_final\": 100,                     # final time of integration\n",
    "    't_transition': 0.0,                # transition time\n",
    "    \"interval\": 0.1,                    # time interval for sampling\n",
    "\n",
    "    \"alpha\": alpha0,                    # frustration\n",
    "    \"omega\": omega0,                    # initial angular frequencies\n",
    "    'initial_state': initial_state,     # initial phase of oscillators\n",
    "\n",
    "    'integration_method': 'dopri5',     # integration method\n",
    "    'control': ['coupling'],            # control parameters\n",
    "\n",
    "    \"use_omp\": False,                   # use OpenMP\n",
    "    \"output\": \"data\",                   # output directory\n",
    "    \"modulename\": \"km\"                  # compiled filename\n",
    "}"
   ]
  },
  {
   "cell_type": "code",
   "execution_count": 3,
   "metadata": {},
   "outputs": [
    {
     "name": "stdout",
     "output_type": "stream",
     "text": [
      "compiled C code\n"
     ]
    }
   ],
   "source": [
    "# make an instance of the model\n",
    "sol = Kuramoto_I(parameters)\n",
    "# compile the model\n",
    "sol.compile()"
   ]
  },
  {
   "cell_type": "code",
   "execution_count": 4,
   "metadata": {},
   "outputs": [
    {
     "data": {
      "image/png": "[encoded data removed]",
      "text/plain": [
       "<Figure size 432x288 with 1 Axes>"
      ]
     },
     "metadata": {},
     "output_type": "display_data"
    }
   ],
   "source": [
    "# run the simulation by setting the control parameters\n",
    "controls = [coupling0]\n",
    "data = sol.simulate(controls)\n",
    "x = data['x']\n",
    "t = data['t']\n",
    "\n",
    "# calculate the Kuramoto order parameter\n",
    "order = sol.order_parameter(x)\n",
    "\n",
    "# plot order parameter vs time\n",
    "plot_order(t,\n",
    "           order,\n",
    "           filename=\"data/06.png\",\n",
    "           xlabel=\"time\", \n",
    "           ylabel=\"r(t)\", \n",
    "           close_fig=False);"
   ]
  },
  {
   "cell_type": "markdown",
   "metadata": {},
   "source": [
    "To use another network, we need to compile the code again, adjacency matrix is not among the variables that could be considered as parameter."
   ]
  },
  {
   "cell_type": "code",
   "execution_count": 5,
   "metadata": {},
   "outputs": [
    {
     "name": "stdout",
     "output_type": "stream",
     "text": [
      "compiled C code\n"
     ]
    }
   ],
   "source": [
    "parameters['adj'] = FeedBack\n",
    "parameters[\"so\"] = \"km_fb.so\" \n",
    "sol = Kuramoto_I(parameters)\n",
    "sol.compile()"
   ]
  },
  {
   "cell_type": "code",
   "execution_count": 6,
   "metadata": {},
   "outputs": [
    {
     "data": {
      "image/png": "[encoded data removed]",
      "text/plain": [
       "<Figure size 432x288 with 1 Axes>"
      ]
     },
     "metadata": {},
     "output_type": "display_data"
    }
   ],
   "source": [
    "controls = [coupling0]\n",
    "data = sol.simulate(controls)\n",
    "x = data['x']\n",
    "t = data['t']\n",
    "\n",
    "# calculate the Kuramoto order parameter\n",
    "order = sol.order_parameter(x)\n",
    "\n",
    "# plot order parameter vs time\n",
    "plot_order(t,\n",
    "           order,\n",
    "           filename=\"data/fb.png\",\n",
    "           xlabel=\"time\", \n",
    "           ylabel=\"r(t)\", \n",
    "           close_fig=False);"
   ]
  },
  {
   "cell_type": "code",
   "execution_count": null,
   "metadata": {},
   "outputs": [],
   "source": []
  }
 ],
 "metadata": {
  "language_info": {},
  "orig_nbformat": 3
 },
 "nbformat": 4,
 "nbformat_minor": 5
}