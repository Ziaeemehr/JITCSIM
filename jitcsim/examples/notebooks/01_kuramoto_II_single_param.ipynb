{
 "cells": [
  {
   "cell_type": "markdown",
   "id": "dressed-recipient",
   "metadata": {},
   "source": [
    "# jitcsim tutorial"
   ]
  },
  {
   "cell_type": "markdown",
   "id": "olive-syndrome",
   "metadata": {},
   "source": [
    "### Simulation of the Kuramoto model.\n",
    "The parameter of the model is coupling.\n",
    "The initial phase also could be changed in repeated simulations.\n",
    "The output is plotting the Kuramoto order parameter vs time."
   ]
  },
  {
   "cell_type": "code",
   "execution_count": 1,
   "id": "legal-macintosh",
   "metadata": {},
   "outputs": [],
   "source": [
    "import os\n",
    "import numpy as np\n",
    "import pylab as plt\n",
    "from numpy import pi\n",
    "import networkx as nx\n",
    "from numpy.random import uniform, normal\n",
    "from jitcsim.visualization import plot_order\n",
    "from jitcsim.models.kuramoto import Kuramoto_II"
   ]
  },
  {
   "cell_type": "code",
   "execution_count": 2,
   "id": "orange-walker",
   "metadata": {},
   "outputs": [],
   "source": [
    "np.random.seed(1)\n",
    "\n",
    "N = 30\n",
    "alpha0 = 0.1\n",
    "coupling0 = 0.5 / (N - 1)\n",
    "omega0 = normal(0, 0.1, N)\n",
    "initial_state = uniform(-pi, pi, N)\n",
    "adj = nx.to_numpy_array(nx.complete_graph(N), dtype=int)\n",
    "\n",
    "parameters = {\n",
    "    'N': N,                             # number of nodes\n",
    "    'adj': adj,                         # adjacency matrix\n",
    "    't_initial': 0.,                    # initial time of integration\n",
    "    \"t_final\": 100,                     # final time of integration\n",
    "    't_transition': 2.0,                # transition time\n",
    "    \"interval\": 1.0,                    # time interval for sampling\n",
    "\n",
    "    \"alpha\": alpha0,                    # frustration\n",
    "    \"omega\": omega0,                    # initial angular frequencies\n",
    "    'initial_state': initial_state,     # initial phase of oscillators\n",
    "\n",
    "    'integration_method': 'dopri5',     # integration method\n",
    "    'control': ['coupling'],            # control parameters\n",
    "\n",
    "    \"use_omp\": False,                   # use OpenMP\n",
    "    \"output\": \"data\",                   # output directory\n",
    "    \"modulename\": \"km\"                  # compiled filename\n",
    "}"
   ]
  },
  {
   "cell_type": "code",
   "execution_count": 3,
   "id": "robust-frederick",
   "metadata": {},
   "outputs": [
    {
     "name": "stdout",
     "output_type": "stream",
     "text": [
      "saving file to data/km342226.so\n"
     ]
    }
   ],
   "source": [
    "# make an instance of the model\n",
    "sol = Kuramoto_II(parameters)\n",
    "sol.compile()\n",
    "\n",
    "# run the simulation by setting the control parameters\n",
    "controls = [coupling0]\n",
    "data = sol.simulate(controls)\n",
    "x = data['x']\n",
    "t = data['t']"
   ]
  },
  {
   "cell_type": "code",
   "execution_count": 4,
   "id": "developing-edmonton",
   "metadata": {},
   "outputs": [
    {
     "data": {
      "image/png": "[encoded data removed]",
      "text/plain": [
       "<Figure size 432x288 with 1 Axes>"
      ]
     },
     "metadata": {},
     "output_type": "display_data"
    }
   ],
   "source": [
    "# calculate the Kuramoto order parameter\n",
    "order = sol.order_parameter(x)\n",
    "\n",
    "# plot order parameter vs time\n",
    "plot_order(t,\n",
    "           order,\n",
    "           filename=\"data/01.png\",\n",
    "           xlabel=\"time\", \n",
    "           ylabel=\"r(t)\",\n",
    "           close_fig=False);"
   ]
  },
  {
   "cell_type": "code",
   "execution_count": null,
   "id": "promotional-shape",
   "metadata": {},
   "outputs": [],
   "source": []
  }
 ],
 "metadata": {
  "kernelspec": {
   "display_name": "Python 3",
   "language": "python",
   "name": "python3"
  },
  "language_info": {
   "codemirror_mode": {
    "name": "ipython",
    "version": 3
   },
   "file_extension": ".py",
   "mimetype": "text/x-python",
   "name": "python",
   "nbconvert_exporter": "python",
   "pygments_lexer": "ipython3",
   "version": "3.8.10"
  },
  "metadata": {
   "interpreter": {
    "hash": "916dbcbb3f70747c44a77c7bcd40155683ae19c65e1c03b4aa3499c5328201f1"
   }
  }
 },
 "nbformat": 4,
 "nbformat_minor": 5
}
