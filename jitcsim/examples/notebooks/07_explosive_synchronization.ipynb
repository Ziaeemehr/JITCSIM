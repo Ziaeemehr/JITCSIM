{
 "cells": [
  {
   "cell_type": "markdown",
   "id": "altered-lawrence",
   "metadata": {},
   "source": [
    "# jitcsim tutorial\n",
    "### Explosive synchronization"
   ]
  },
  {
   "cell_type": "markdown",
   "id": "muslim-magnitude",
   "metadata": {},
   "source": [
    "Simulate explosive synchronization and hysteresis loop\n",
    "in order parameter on a Frequency Gap-conditioned (FGC) network with Kuramoto model."
   ]
  },
  {
   "cell_type": "code",
   "execution_count": 1,
   "id": "general-avenue",
   "metadata": {},
   "outputs": [],
   "source": [
    "import sys\n",
    "import numpy as np\n",
    "import pylab as plt\n",
    "from numpy import pi\n",
    "import networkx as nx\n",
    "from copy import copy\n",
    "from time import time\n",
    "from copy import deepcopy\n",
    "from multiprocessing import Pool\n",
    "from jitcsim.utility import flatten\n",
    "from numpy.random import uniform, normal\n",
    "from jitcsim.visualization import (plot_order,\n",
    "                                   plot_degree_omega_distribution)\n",
    "from jitcsim.models.kuramoto import Kuramoto_II\n",
    "from jitcsim.utility import display_time\n",
    "from jitcsim.networks import make_network"
   ]
  },
  {
   "cell_type": "code",
   "execution_count": 2,
   "id": "pregnant-vegetable",
   "metadata": {},
   "outputs": [],
   "source": [
    "def simulateHalfLoop(direction):\n",
    "\n",
    "    if direction == \"backward\":\n",
    "        Couplings = copy(couplings[::-1])\n",
    "    else:\n",
    "        Couplings = copy(couplings)\n",
    "\n",
    "    n = len(Couplings)\n",
    "    orders = np.zeros(n)\n",
    "\n",
    "    prev_phases = parameters['initial_state']\n",
    "\n",
    "    for i in range(n):\n",
    "\n",
    "        print(\"direction = {:10s}, coupling = {:10.6f}\".format(\n",
    "            direction, Couplings[i]))\n",
    "\n",
    "        I = Kuramoto_II(parameters)\n",
    "        I.set_initial_state(prev_phases)\n",
    "        data = I.simulate([Couplings[i]])\n",
    "        x = data['x']\n",
    "        prev_phases = x[-1, :]\n",
    "        orders[i] = np.mean(I.order_parameter(x))\n",
    "\n",
    "    return orders"
   ]
  },
  {
   "cell_type": "code",
   "execution_count": 3,
   "id": "leading-hazard",
   "metadata": {},
   "outputs": [],
   "source": [
    "dt = 0.1\n",
    "N = 50\n",
    "t_initial = 0.0\n",
    "t_final = 1500.0\n",
    "t_transition = 400.0\n",
    "noise_amplitude = 0.0\n",
    "omega = uniform(low=0, high=1, size=N)\n",
    "initial_state = uniform(-2*pi, 2*pi, N)\n",
    "couplings = list(np.linspace(0.025, 0.040, 6))\n",
    "\n",
    "ki = 20\n",
    "gamma = 0.45\n",
    "alpha = 0.0\n",
    "num_processes = 2\n",
    "\n",
    "net = make_network()\n",
    "adj = net.fgc(N=N, k=ki, omega=omega, gamma=gamma)\n",
    "\n",
    "parameters = {\n",
    "    'N': N,\n",
    "    'adj': adj,\n",
    "    't_initial': 0.,\n",
    "    \"t_final\": t_final,\n",
    "    't_transition': t_transition,\n",
    "    \"interval\": dt,                    # time interval for sampling\n",
    "\n",
    "    \"alpha\": alpha,\n",
    "    \"omega\": omega,\n",
    "    'initial_state': initial_state,\n",
    "\n",
    "    'integration_method': 'dopri5',\n",
    "    'control': ['coupling'],\n",
    "    \"use_omp\": False,\n",
    "    \"output\": \"data\",\n",
    "    \"modulename\": \"km\",\n",
    "}"
   ]
  },
  {
   "cell_type": "code",
   "execution_count": 4,
   "id": "entitled-correlation",
   "metadata": {},
   "outputs": [
    {
     "data": {
      "image/png": "[encoded data removed]",
      "text/plain": [
       "<Figure size 576x360 with 2 Axes>"
      ]
     },
     "metadata": {
      "needs_background": "light"
     },
     "output_type": "display_data"
    }
   ],
   "source": [
    "plot_degree_omega_distribution(adj, omega, close_fig=False)"
   ]
  },
  {
   "cell_type": "code",
   "execution_count": 5,
   "id": "furnished-procurement",
   "metadata": {},
   "outputs": [
    {
     "name": "stdout",
     "output_type": "stream",
     "text": [
      "direction = backward  , coupling =   0.040000direction = forward   , coupling =   0.025000\n",
      "\n"
     ]
    },
    {
     "ename": "ImportError",
     "evalue": "/home/ziaee/git/JITCSIM/jitcsim/examples/notebooks/data/km.so: cannot open shared object file: No such file or directory",
     "output_type": "error",
     "traceback": [
      "\u001b[0;31m---------------------------------------------------------------------------\u001b[0m",
      "\u001b[0;31mRemoteTraceback\u001b[0m                           Traceback (most recent call last)",
      "\u001b[0;31mRemoteTraceback\u001b[0m: \n\"\"\"\nTraceback (most recent call last):\n  File \"/usr/lib/python3.8/multiprocessing/pool.py\", line 125, in worker\n    result = (True, func(*args, **kwds))\n  File \"/usr/lib/python3.8/multiprocessing/pool.py\", line 48, in mapstar\n    return list(map(*args))\n  File \"<ipython-input-2-0d6efde2ba05>\", line 20, in simulateHalfLoop\n    data = I.simulate([Couplings[i]])\n  File \"/home/ziaee/git/JITCSIM/jitcsim/models/kuramoto.py\", line 88, in simulate\n    I=jitcode(n=self.N,\n  File \"/home/ziaee/.local/lib/python3.8/site-packages/jitcode/_jitcode.py\", line 98, in __init__\n    jitcxde.__init__(self,n,verbose,module_location)\n  File \"/home/ziaee/.local/lib/python3.8/site-packages/jitcxde_common/_jitcxde.py\", line 61, in __init__\n    self.jitced = module_from_path(module_location)\n  File \"/home/ziaee/.local/lib/python3.8/site-packages/jitcxde_common/modules_35.py\", line 40, in module_from_path\n    module = module_from_spec(spec)\n  File \"<frozen importlib._bootstrap>\", line 556, in module_from_spec\n  File \"<frozen importlib._bootstrap_external>\", line 1166, in create_module\n  File \"<frozen importlib._bootstrap>\", line 219, in _call_with_frames_removed\nImportError: /home/ziaee/git/JITCSIM/jitcsim/examples/notebooks/data/km.so: cannot open shared object file: No such file or directory\n\"\"\"",
      "\nThe above exception was the direct cause of the following exception:\n",
      "\u001b[0;31mImportError\u001b[0m                               Traceback (most recent call last)",
      "\u001b[0;32m<ipython-input-5-b864734b5930>\u001b[0m in \u001b[0;36m<module>\u001b[0;34m\u001b[0m\n\u001b[1;32m      6\u001b[0m \u001b[0;34m\u001b[0m\u001b[0m\n\u001b[1;32m      7\u001b[0m \u001b[0;32mwith\u001b[0m \u001b[0mPool\u001b[0m\u001b[0;34m(\u001b[0m\u001b[0mprocesses\u001b[0m\u001b[0;34m=\u001b[0m\u001b[0mnum_processes\u001b[0m\u001b[0;34m)\u001b[0m \u001b[0;32mas\u001b[0m \u001b[0mpool\u001b[0m\u001b[0;34m:\u001b[0m\u001b[0;34m\u001b[0m\u001b[0;34m\u001b[0m\u001b[0m\n\u001b[0;32m----> 8\u001b[0;31m     \u001b[0morders\u001b[0m \u001b[0;34m=\u001b[0m \u001b[0;34m(\u001b[0m\u001b[0mpool\u001b[0m\u001b[0;34m.\u001b[0m\u001b[0mmap\u001b[0m\u001b[0;34m(\u001b[0m\u001b[0msimulateHalfLoop\u001b[0m\u001b[0;34m,\u001b[0m \u001b[0margs\u001b[0m\u001b[0;34m)\u001b[0m\u001b[0;34m)\u001b[0m\u001b[0;34m\u001b[0m\u001b[0;34m\u001b[0m\u001b[0m\n\u001b[0m\u001b[1;32m      9\u001b[0m \u001b[0;34m\u001b[0m\u001b[0m\n\u001b[1;32m     10\u001b[0m \u001b[0mdisplay_time\u001b[0m\u001b[0;34m(\u001b[0m\u001b[0mtime\u001b[0m\u001b[0;34m(\u001b[0m\u001b[0;34m)\u001b[0m\u001b[0;34m-\u001b[0m\u001b[0mstart\u001b[0m\u001b[0;34m)\u001b[0m\u001b[0;34m\u001b[0m\u001b[0;34m\u001b[0m\u001b[0m\n",
      "\u001b[0;32m/usr/lib/python3.8/multiprocessing/pool.py\u001b[0m in \u001b[0;36mmap\u001b[0;34m(self, func, iterable, chunksize)\u001b[0m\n\u001b[1;32m    362\u001b[0m         \u001b[0;32min\u001b[0m \u001b[0ma\u001b[0m \u001b[0mlist\u001b[0m \u001b[0mthat\u001b[0m \u001b[0;32mis\u001b[0m \u001b[0mreturned\u001b[0m\u001b[0;34m.\u001b[0m\u001b[0;34m\u001b[0m\u001b[0;34m\u001b[0m\u001b[0m\n\u001b[1;32m    363\u001b[0m         '''\n\u001b[0;32m--> 364\u001b[0;31m         \u001b[0;32mreturn\u001b[0m \u001b[0mself\u001b[0m\u001b[0;34m.\u001b[0m\u001b[0m_map_async\u001b[0m\u001b[0;34m(\u001b[0m\u001b[0mfunc\u001b[0m\u001b[0;34m,\u001b[0m \u001b[0miterable\u001b[0m\u001b[0;34m,\u001b[0m \u001b[0mmapstar\u001b[0m\u001b[0;34m,\u001b[0m \u001b[0mchunksize\u001b[0m\u001b[0;34m)\u001b[0m\u001b[0;34m.\u001b[0m\u001b[0mget\u001b[0m\u001b[0;34m(\u001b[0m\u001b[0;34m)\u001b[0m\u001b[0;34m\u001b[0m\u001b[0;34m\u001b[0m\u001b[0m\n\u001b[0m\u001b[1;32m    365\u001b[0m \u001b[0;34m\u001b[0m\u001b[0m\n\u001b[1;32m    366\u001b[0m     \u001b[0;32mdef\u001b[0m \u001b[0mstarmap\u001b[0m\u001b[0;34m(\u001b[0m\u001b[0mself\u001b[0m\u001b[0;34m,\u001b[0m \u001b[0mfunc\u001b[0m\u001b[0;34m,\u001b[0m \u001b[0miterable\u001b[0m\u001b[0;34m,\u001b[0m \u001b[0mchunksize\u001b[0m\u001b[0;34m=\u001b[0m\u001b[0;32mNone\u001b[0m\u001b[0;34m)\u001b[0m\u001b[0;34m:\u001b[0m\u001b[0;34m\u001b[0m\u001b[0;34m\u001b[0m\u001b[0m\n",
      "\u001b[0;32m/usr/lib/python3.8/multiprocessing/pool.py\u001b[0m in \u001b[0;36mget\u001b[0;34m(self, timeout)\u001b[0m\n\u001b[1;32m    769\u001b[0m             \u001b[0;32mreturn\u001b[0m \u001b[0mself\u001b[0m\u001b[0;34m.\u001b[0m\u001b[0m_value\u001b[0m\u001b[0;34m\u001b[0m\u001b[0;34m\u001b[0m\u001b[0m\n\u001b[1;32m    770\u001b[0m         \u001b[0;32melse\u001b[0m\u001b[0;34m:\u001b[0m\u001b[0;34m\u001b[0m\u001b[0;34m\u001b[0m\u001b[0m\n\u001b[0;32m--> 771\u001b[0;31m             \u001b[0;32mraise\u001b[0m \u001b[0mself\u001b[0m\u001b[0;34m.\u001b[0m\u001b[0m_value\u001b[0m\u001b[0;34m\u001b[0m\u001b[0;34m\u001b[0m\u001b[0m\n\u001b[0m\u001b[1;32m    772\u001b[0m \u001b[0;34m\u001b[0m\u001b[0m\n\u001b[1;32m    773\u001b[0m     \u001b[0;32mdef\u001b[0m \u001b[0m_set\u001b[0m\u001b[0;34m(\u001b[0m\u001b[0mself\u001b[0m\u001b[0;34m,\u001b[0m \u001b[0mi\u001b[0m\u001b[0;34m,\u001b[0m \u001b[0mobj\u001b[0m\u001b[0;34m)\u001b[0m\u001b[0;34m:\u001b[0m\u001b[0;34m\u001b[0m\u001b[0;34m\u001b[0m\u001b[0m\n",
      "\u001b[0;31mImportError\u001b[0m: /home/ziaee/git/JITCSIM/jitcsim/examples/notebooks/data/km.so: cannot open shared object file: No such file or directory"
     ]
    }
   ],
   "source": [
    "I = Kuramoto_II(parameters)\n",
    "I.compile()\n",
    "\n",
    "start = time()\n",
    "args = [\"forward\", \"backward\"]\n",
    "\n",
    "with Pool(processes=num_processes) as pool:\n",
    "    orders = (pool.map(simulateHalfLoop, args))\n",
    "\n",
    "display_time(time()-start)\n",
    "\n",
    "r_forward, r_backward = orders"
   ]
  },
  {
   "cell_type": "code",
   "execution_count": null,
   "id": "divine-california",
   "metadata": {},
   "outputs": [],
   "source": [
    "# save orders to npz file\n",
    "np.savetxt(\"data/r.txt\", np.column_stack((couplings,\n",
    "                                          r_forward,\n",
    "                                          r_backward)),\n",
    "           fmt=\"%25.12f\")\n",
    "\n",
    "# plotting orders\n",
    "plt.style.use('ggplot')\n",
    "fig, ax = plt.subplots(1, figsize=(10, 4.5))\n",
    "plot_order(couplings, r_forward,\n",
    "           label=\"FW\",\n",
    "           close_fig=False,\n",
    "           ax=ax,\n",
    "           color=\"b\",\n",
    "           marker=\"*\")\n",
    "plot_order(couplings[::-1],\n",
    "           r_backward,\n",
    "           label=\"BW\",\n",
    "           ax=ax,\n",
    "           color=\"r\",\n",
    "           marker=\"o\",\n",
    "           close_fig=False,\n",
    "           xlabel=\"coupling\",\n",
    "           ylabel=\"R\")\n",
    "plt.savefig(\"data/expl.png\", dpi=150)\n",
    "\n"
   ]
  },
  {
   "cell_type": "code",
   "execution_count": null,
   "id": "compound-cloud",
   "metadata": {},
   "outputs": [],
   "source": []
  }
 ],
 "metadata": {
  "kernelspec": {
   "display_name": "Python 3",
   "language": "python",
   "name": "python3"
  },
  "language_info": {
   "codemirror_mode": {
    "name": "ipython",
    "version": 3
   },
   "file_extension": ".py",
   "mimetype": "text/x-python",
   "name": "python",
   "nbconvert_exporter": "python",
   "pygments_lexer": "ipython3",
   "version": "3.8.10"
  },
  "metadata": {
   "interpreter": {
    "hash": "916dbcbb3f70747c44a77c7bcd40155683ae19c65e1c03b4aa3499c5328201f1"
   }
  }
 },
 "nbformat": 4,
 "nbformat_minor": 5
}
