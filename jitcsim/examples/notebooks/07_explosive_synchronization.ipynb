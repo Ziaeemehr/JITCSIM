{
 "cells": [
  {
   "cell_type": "markdown",
   "id": "altered-lawrence",
   "metadata": {},
   "source": [
    "# jitcsim tutorial\n",
    "### Explosive synchronization"
   ]
  },
  {
   "cell_type": "markdown",
   "id": "muslim-magnitude",
   "metadata": {},
   "source": [
    "Simulate explosive synchronization and hysteresis loop\n",
    "in order parameter on a Frequency Gap-conditioned (FGC) network with Kuramoto model."
   ]
  },
  {
   "cell_type": "code",
   "execution_count": 1,
   "id": "general-avenue",
   "metadata": {},
   "outputs": [],
   "source": [
    "import sys\n",
    "import numpy as np\n",
    "import pylab as plt\n",
    "from numpy import pi\n",
    "import networkx as nx\n",
    "from copy import copy\n",
    "from time import time\n",
    "from copy import deepcopy\n",
    "from multiprocessing import Pool\n",
    "from jitcsim.utility import flatten\n",
    "from numpy.random import uniform, normal\n",
    "from jitcsim.visualization import (plot_order,\n",
    "                                   plot_degree_omega_distribution)\n",
    "from jitcsim.models.kuramoto import Kuramoto_II\n",
    "from jitcsim.utility import display_time\n",
    "from jitcsim.networks import make_network"
   ]
  },
  {
   "cell_type": "code",
   "execution_count": 2,
   "id": "pregnant-vegetable",
   "metadata": {},
   "outputs": [],
   "source": [
    "def simulateHalfLoop(direction):\n",
    "\n",
    "    if direction == \"backward\":\n",
    "        Couplings = copy(couplings[::-1])\n",
    "    else:\n",
    "        Couplings = copy(couplings)\n",
    "\n",
    "    n = len(Couplings)\n",
    "    orders = np.zeros(n)\n",
    "\n",
    "    prev_phases = parameters['initial_state']\n",
    "\n",
    "    for i in range(n):\n",
    "\n",
    "        print(\"direction = {:10s}, coupling = {:10.6f}\".format(\n",
    "            direction, Couplings[i]))\n",
    "\n",
    "        I = Kuramoto_II(parameters)\n",
    "        I.set_initial_state(prev_phases)\n",
    "        data = I.simulate([Couplings[i]])\n",
    "        x = data['x']\n",
    "        prev_phases = x[-1, :]\n",
    "        orders[i] = np.mean(I.order_parameter(x))\n",
    "\n",
    "    return orders"
   ]
  },
  {
   "cell_type": "code",
   "execution_count": 3,
   "id": "leading-hazard",
   "metadata": {},
   "outputs": [],
   "source": [
    "dt = 0.1\n",
    "N = 50\n",
    "t_initial = 0.0\n",
    "t_final = 1500.0\n",
    "t_transition = 400.0\n",
    "noise_amplitude = 0.0\n",
    "omega = uniform(low=0, high=1, size=N)\n",
    "initial_state = uniform(-2*pi, 2*pi, N)\n",
    "couplings = list(np.linspace(0.025, 0.040, 41))\n",
    "\n",
    "ki = 20\n",
    "gamma = 0.45\n",
    "alpha = 0.0\n",
    "num_processes = 2\n",
    "\n",
    "net = make_network()\n",
    "adj = net.fgc(N=N, k=ki, omega=omega, gamma=gamma)\n",
    "\n",
    "parameters = {\n",
    "    'N': N,\n",
    "    'adj': adj,\n",
    "    't_initial': 0.,\n",
    "    \"t_final\": t_final,\n",
    "    't_transition': t_transition,\n",
    "    \"interval\": dt,                    # time interval for sampling\n",
    "\n",
    "    \"alpha\": alpha,\n",
    "    \"omega\": omega,\n",
    "    'initial_state': initial_state,\n",
    "\n",
    "    'integration_method': 'dopri5',\n",
    "    'control': ['coupling'],\n",
    "    \"use_omp\": False,\n",
    "    \"output\": \"data\",\n",
    "    \"modulename\": \"km\",\n",
    "}"
   ]
  },
  {
   "cell_type": "code",
   "execution_count": 4,
   "id": "entitled-correlation",
   "metadata": {},
   "outputs": [
    {
     "data": {
      "image/png": "[encoded data removed]",
      "text/plain": [
       "<Figure size 576x360 with 2 Axes>"
      ]
     },
     "metadata": {
      "needs_background": "light"
     },
     "output_type": "display_data"
    }
   ],
   "source": [
    "plot_degree_omega_distribution(adj, omega, close_fig=False)"
   ]
  },
  {
   "cell_type": "code",
   "execution_count": null,
   "id": "furnished-procurement",
   "metadata": {},
   "outputs": [
    {
     "name": "stdout",
     "output_type": "stream",
     "text": [
      "saving file to data/km.so\n",
      "direction = forward   , coupling =   0.025000direction = backward  , coupling =   0.040000\n",
      "\n",
      "direction = backward  , coupling =   0.039625\n",
      "direction = forward   , coupling =   0.025375\n",
      "direction = backward  , coupling =   0.039250\n",
      "direction = forward   , coupling =   0.025750\n",
      "direction = backward  , coupling =   0.038875\n",
      "direction = forward   , coupling =   0.026125\n",
      "direction = backward  , coupling =   0.038500\n",
      "direction = backward  , coupling =   0.038125\n",
      "direction = forward   , coupling =   0.026500\n",
      "direction = backward  , coupling =   0.037750\n",
      "direction = forward   , coupling =   0.026875\n",
      "direction = backward  , coupling =   0.037375\n",
      "direction = forward   , coupling =   0.027250\n",
      "direction = backward  , coupling =   0.037000\n",
      "direction = forward   , coupling =   0.027625\n",
      "direction = backward  , coupling =   0.036625\n",
      "direction = forward   , coupling =   0.028000\n",
      "direction = backward  , coupling =   0.036250\n",
      "direction = forward   , coupling =   0.028375\n",
      "direction = backward  , coupling =   0.035875\n",
      "direction = backward  , coupling =   0.035500\n",
      "direction = forward   , coupling =   0.028750\n",
      "direction = backward  , coupling =   0.035125\n",
      "direction = forward   , coupling =   0.029125\n",
      "direction = backward  , coupling =   0.034750\n",
      "direction = forward   , coupling =   0.029500\n",
      "direction = backward  , coupling =   0.034375\n",
      "direction = forward   , coupling =   0.029875\n",
      "direction = backward  , coupling =   0.034000\n",
      "direction = forward   , coupling =   0.030250\n",
      "direction = backward  , coupling =   0.033625\n",
      "direction = forward   , coupling =   0.030625\n",
      "direction = backward  , coupling =   0.033250\n",
      "direction = forward   , coupling =   0.031000\n",
      "direction = backward  , coupling =   0.032875\n",
      "direction = forward   , coupling =   0.031375\n",
      "direction = backward  , coupling =   0.032500\n",
      "direction = forward   , coupling =   0.031750\n",
      "direction = backward  , coupling =   0.032125\n",
      "direction = forward   , coupling =   0.032125\n",
      "direction = backward  , coupling =   0.031750\n",
      "direction = forward   , coupling =   0.032500\n",
      "direction = backward  , coupling =   0.031375\n",
      "direction = forward   , coupling =   0.032875\n",
      "direction = backward  , coupling =   0.031000\n",
      "direction = forward   , coupling =   0.033250\n",
      "direction = backward  , coupling =   0.030625\n",
      "direction = forward   , coupling =   0.033625\n",
      "direction = backward  , coupling =   0.030250\n",
      "direction = forward   , coupling =   0.034000\n",
      "direction = backward  , coupling =   0.029875\n",
      "direction = forward   , coupling =   0.034375\n",
      "direction = backward  , coupling =   0.029500\n",
      "direction = forward   , coupling =   0.034750\n",
      "direction = backward  , coupling =   0.029125\n",
      "direction = forward   , coupling =   0.035125\n",
      "direction = backward  , coupling =   0.028750\n",
      "direction = forward   , coupling =   0.035500\n",
      "direction = backward  , coupling =   0.028375\n",
      "direction = forward   , coupling =   0.035875\n",
      "direction = backward  , coupling =   0.028000\n",
      "direction = forward   , coupling =   0.036250\n",
      "direction = forward   , coupling =   0.036625\n",
      "direction = backward  , coupling =   0.027625\n",
      "direction = forward   , coupling =   0.037000\n",
      "direction = backward  , coupling =   0.027250\n",
      "direction = forward   , coupling =   0.037375\n",
      "direction = backward  , coupling =   0.026875\n",
      "direction = forward   , coupling =   0.037750\n",
      "direction = backward  , coupling =   0.026500\n",
      "direction = forward   , coupling =   0.038125\n",
      "direction = forward   , coupling =   0.038500\n",
      "direction = backward  , coupling =   0.026125\n"
     ]
    }
   ],
   "source": [
    "I = Kuramoto_II(parameters)\n",
    "I.compile()\n",
    "\n",
    "start = time()\n",
    "args = [\"forward\", \"backward\"]\n",
    "\n",
    "with Pool(processes=num_processes) as pool:\n",
    "    orders = (pool.map(simulateHalfLoop, args))\n",
    "\n",
    "display_time(time()-start)\n",
    "\n",
    "r_forward, r_backward = orders"
   ]
  },
  {
   "cell_type": "code",
   "execution_count": null,
   "id": "divine-california",
   "metadata": {},
   "outputs": [],
   "source": [
    "# save orders to npz file\n",
    "np.savetxt(\"data/r.txt\", np.column_stack((couplings,\n",
    "                                          r_forward,\n",
    "                                          r_backward)),\n",
    "           fmt=\"%25.12f\")\n",
    "\n",
    "# plotting orders\n",
    "plt.style.use('ggplot')\n",
    "fig, ax = plt.subplots(1, figsize=(10, 4.5))\n",
    "plot_order(couplings, r_forward,\n",
    "           label=\"FW\",\n",
    "           close_fig=False,\n",
    "           ax=ax,\n",
    "           color=\"b\",\n",
    "           marker=\"*\")\n",
    "plot_order(couplings[::-1],\n",
    "           r_backward,\n",
    "           label=\"BW\",\n",
    "           ax=ax,\n",
    "           color=\"r\",\n",
    "           marker=\"o\",\n",
    "           close_fig=False,\n",
    "           xlabel=\"coupling\",\n",
    "           ylabel=\"R\")\n",
    "plt.savefig(\"data/expl.png\", dpi=150)\n",
    "\n"
   ]
  },
  {
   "cell_type": "code",
   "execution_count": null,
   "id": "compound-cloud",
   "metadata": {},
   "outputs": [],
   "source": []
  }
 ],
 "metadata": {
  "kernelspec": {
   "display_name": "Python 3",
   "language": "python",
   "name": "python3"
  },
  "language_info": {
   "codemirror_mode": {
    "name": "ipython",
    "version": 3
   },
   "file_extension": ".py",
   "mimetype": "text/x-python",
   "name": "python",
   "nbconvert_exporter": "python",
   "pygments_lexer": "ipython3",
   "version": "3.8.10"
  },
  "metadata": {
   "interpreter": {
    "hash": "916dbcbb3f70747c44a77c7bcd40155683ae19c65e1c03b4aa3499c5328201f1"
   }
  }
 },
 "nbformat": 4,
 "nbformat_minor": 5
}
