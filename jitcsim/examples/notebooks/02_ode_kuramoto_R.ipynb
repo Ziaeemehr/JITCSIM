{
 "cells": [
  {
   "cell_type": "markdown",
   "id": "daily-battle",
   "metadata": {},
   "source": [
    "# jitcsim tutorial"
   ]
  },
  {
   "cell_type": "markdown",
   "id": "conditional-myanmar",
   "metadata": {},
   "source": [
    "### Simulation of the Kuramoto model.\n",
    "The parameter of the model is coupling.\n",
    "The initial phase also could be changed in repeated simulations.\n",
    "The output is plotting the time average of the Kuramoto order parameter vs coupling.\n",
    "\n",
    "see also: example : 01_*.py\n"
   ]
  },
  {
   "cell_type": "code",
   "execution_count": 1,
   "id": "organic-somerset",
   "metadata": {},
   "outputs": [],
   "source": [
    "import numpy as np\n",
    "import pylab as plt\n",
    "from numpy import pi\n",
    "import networkx as nx\n",
    "from time import time\n",
    "from numpy.random import uniform, normal\n",
    "from jitcsim.visualization import plot_order\n",
    "from jitcsim.models.kuramoto import Kuramoto_II"
   ]
  },
  {
   "cell_type": "code",
   "execution_count": 2,
   "id": "pacific-stamp",
   "metadata": {},
   "outputs": [],
   "source": [
    "np.random.seed(1)\n",
    "\n",
    "N = 50\n",
    "num_ensembles = 10\n",
    "alpha0 = 0.0\n",
    "omega0 = normal(0, 0.1, N)\n",
    "initial_state = uniform(-pi, pi, N)\n",
    "adj = nx.to_numpy_array(nx.gnp_random_graph(N, 1, seed=1))\n",
    "\n",
    "parameters = {\n",
    "    'N': N,\n",
    "    'adj': adj,\n",
    "    't_initial': 0.,\n",
    "    \"t_final\": 100,\n",
    "    't_transition': 20.0,\n",
    "    \"interval\": 1.0,                    # time interval for sampling\n",
    "\n",
    "    \"alpha\": alpha0,\n",
    "    \"omega\": omega0,\n",
    "    'initial_state': initial_state,\n",
    "\n",
    "    'integration_method': 'dopri5',\n",
    "    'control': ['coupling'],\n",
    "    \"use_omp\": False,\n",
    "    \"output\": \"data\",\n",
    "}\n"
   ]
  },
  {
   "cell_type": "code",
   "execution_count": 3,
   "id": "plain-pasta",
   "metadata": {},
   "outputs": [
    {
     "name": "stdout",
     "output_type": "stream",
     "text": [
      "saving file to data/km449861.so\n",
      "Compile time : 5.086 secondes.\n"
     ]
    }
   ],
   "source": [
    "# make an instance of the model\n",
    "sol = Kuramoto_II(parameters)\n",
    "# compile model\n",
    "compile_time = time()\n",
    "sol.compile()\n",
    "print(\"Compile time : {:.3f} secondes.\".format(time()-compile_time))"
   ]
  },
  {
   "cell_type": "code",
   "execution_count": 4,
   "id": "frank-window",
   "metadata": {},
   "outputs": [
    {
     "name": "stdout",
     "output_type": "stream",
     "text": [
      "Simulation time: 8.930 seconds\n"
     ]
    }
   ],
   "source": [
    "# define an array for the strength of couplings\n",
    "couplings = np.arange(0, 0.8, 0.05) / (N-1)\n",
    "orders = np.zeros((len(couplings), num_ensembles))\n",
    "\n",
    "start_time = time()\n",
    "# repeatedly run the model without recompiling the model.\n",
    "for i in range(len(couplings)):\n",
    "    for j in range(num_ensembles):\n",
    "\n",
    "        controls = [couplings[i]]\n",
    "        sol.set_initial_state(uniform(-pi, pi, N))\n",
    "        data = sol.simulate(controls)\n",
    "        x = data['x']\n",
    "        t = data['t']\n",
    "        orders[i, j] = np.mean(sol.order_parameter(x))\n",
    "\n",
    "print(\"Simulation time: {:.3f} seconds\".format(time()-start_time))"
   ]
  },
  {
   "cell_type": "code",
   "execution_count": 5,
   "id": "loose-specification",
   "metadata": {
    "scrolled": true
   },
   "outputs": [
    {
     "data": {
      "image/png": "[encoded data removed]",
      "text/plain": [
       "<Figure size 432x288 with 1 Axes>"
      ]
     },
     "metadata": {},
     "output_type": "display_data"
    }
   ],
   "source": [
    "# plotting time average of the order parameters vs coupling\n",
    "plot_order(couplings,\n",
    "           np.mean(orders, axis=1),\n",
    "           filename=\"data/kuramoto_II_r.png\",\n",
    "           ylabel=\"R\", \n",
    "           xlabel=\"coupling\",\n",
    "           close_fig=False);"
   ]
  },
  {
   "cell_type": "code",
   "execution_count": null,
   "id": "aquatic-lightweight",
   "metadata": {},
   "outputs": [],
   "source": []
  }
 ],
 "metadata": {
  "kernelspec": {
   "display_name": "Python 3",
   "language": "python",
   "name": "python3"
  },
  "language_info": {
   "codemirror_mode": {
    "name": "ipython",
    "version": 3
   },
   "file_extension": ".py",
   "mimetype": "text/x-python",
   "name": "python",
   "nbconvert_exporter": "python",
   "pygments_lexer": "ipython3",
   "version": "3.8.10"
  }
 },
 "nbformat": 4,
 "nbformat_minor": 5
}
