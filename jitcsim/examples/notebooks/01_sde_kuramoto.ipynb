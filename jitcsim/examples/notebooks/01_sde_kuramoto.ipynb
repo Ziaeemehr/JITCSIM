{
 "cells": [
  {
   "cell_type": "markdown",
   "metadata": {},
   "source": [
    "# jitcsim tutorial\n",
    "### SDE\n",
    "\n",
    "Simulation of the Kuramoto model with noise.\n",
    "The control parameter of the model is coupling.\n",
    "The initial phase also could be changed in repeated simulations.\n",
    "The output is plotting the Kuramoto order parameter vs time."
   ]
  },
  {
   "cell_type": "code",
   "execution_count": 1,
   "metadata": {},
   "outputs": [],
   "source": [
    "import numpy as np\n",
    "from numpy import pi\n",
    "import networkx as nx\n",
    "from random import randint\n",
    "from numpy.random import uniform, normal\n",
    "from jitcsim.visualization import plot_order\n",
    "from jitcsim.models.kuramoto_sde import Kuramoto_II"
   ]
  },
  {
   "cell_type": "code",
   "execution_count": 2,
   "metadata": {},
   "outputs": [],
   "source": [
    "np.random.seed(2)\n",
    "\n",
    "N = 30\n",
    "alpha0 = 0.0\n",
    "sigma0 = 0.05\n",
    "coupling0 = 0.5 / (N - 1)\n",
    "omega0 = normal(0, 0.1, N)\n",
    "initial_state = uniform(-pi, pi, N)\n",
    "adj = nx.to_numpy_array(nx.complete_graph(N), dtype=int)\n",
    "\n",
    "parameters = {\n",
    "    'N': N,                             # number of nodes\n",
    "    'adj': adj,                         # adjacency matrix\n",
    "    't_initial': 0.,                    # initial time of integration\n",
    "    \"t_final\": 100,                     # final time of integration\n",
    "    't_transition': 2.0,                # transition time\n",
    "    \"interval\": 1.0,                    # time interval for sampling\n",
    "\n",
    "    \"sigma\": sigma0,                    # noise amplitude (normal distribution)\n",
    "    \"alpha\": alpha0,                    # frustration\n",
    "    \"omega\": omega0,                    # initial angular frequencies\n",
    "    'initial_state': initial_state,     # initial phase of oscillators\n",
    "\n",
    "    'control': ['coupling'],            # control parameters\n",
    "\n",
    "    \"use_omp\": False,                   # use OpenMP\n",
    "    \"output\": \"data\",                   # output directory\n",
    "}"
   ]
  },
  {
   "cell_type": "code",
   "execution_count": 5,
   "metadata": {},
   "outputs": [
    {
     "name": "stdout",
     "output_type": "stream",
     "text": [
      "compiled C code\n"
     ]
    }
   ],
   "source": [
    "parameters[\"modulename\"] = \"km\"+str(randint(1,1000))\n",
    "# make an instance of the model\n",
    "sol = Kuramoto_II(parameters)\n",
    "# compile the model\n",
    "sol.compile()"
   ]
  },
  {
   "cell_type": "code",
   "execution_count": 6,
   "metadata": {},
   "outputs": [
    {
     "name": "stdout",
     "output_type": "stream",
     "text": [
      "Using default integration parameters.\n"
     ]
    },
    {
     "data": {
      "image/png": "[encoded data removed]",
      "text/plain": "<Figure size 432x288 with 1 Axes>"
     },
     "metadata": {},
     "output_type": "display_data"
    }
   ],
   "source": [
    "# run the simulation by setting the control parameters\n",
    "controls = [coupling0]\n",
    "data = sol.simulate(controls)\n",
    "x = data['x']\n",
    "t = data['t']\n",
    "\n",
    "# calculate the Kuramoto order parameter\n",
    "order = sol.order_parameter(x)\n",
    "\n",
    "# plot order parameter vs time\n",
    "plot_order(t,\n",
    "           order,\n",
    "           filename=\"data/01_sde.png\",\n",
    "           xlabel=\"time\", \n",
    "           ylabel=\"r(t)\", \n",
    "           close_fig=False)\n"
   ]
  },
  {
   "cell_type": "code",
   "execution_count": null,
   "metadata": {},
   "outputs": [],
   "source": []
  }
 ],
 "metadata": {
  "kernelspec": {
   "display_name": "Python 3",
   "language": "python",
   "name": "python3"
  },
  "language_info": {
   "codemirror_mode": {
    "name": "ipython",
    "version": 3
   },
   "file_extension": ".py",
   "mimetype": "text/x-python",
   "name": "python",
   "nbconvert_exporter": "python",
   "pygments_lexer": "ipython3",
   "version": "3.8.10"
  }
 },
 "nbformat": 4,
 "nbformat_minor": 5
}