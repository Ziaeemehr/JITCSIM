{
 "cells": [
  {
   "cell_type": "markdown",
   "id": "supreme-benefit",
   "metadata": {},
   "source": [
    "# jitcsim tutorial"
   ]
  },
  {
   "cell_type": "markdown",
   "id": "utility-developer",
   "metadata": {},
   "source": [
    "### Simulation of the Kuramoto model \n",
    "- (Type I, look at the documentation).\n",
    "The parameter of the model is coupling.\n",
    "The initial phase also could be changed in repeated simulations.\n",
    "The output is plotting the Kuramoto order parameter vs time.\n",
    "\n",
    "For Type I oscillators on Feed Forward (Feed Back) loop, we expect to get high \n",
    "(low) values of the order parameters [1].\n",
    "\n",
    "[1] Ziaeemehr, A., Zarei, M. and Sheshbolouki, A., 2020. Emergence of global synchronization in directed excitatory networks of type I neurons. Scientific reports, 10(1), pp.1-11.\n"
   ]
  },
  {
   "cell_type": "code",
   "execution_count": 7,
   "id": "charged-disney",
   "metadata": {},
   "outputs": [],
   "source": [
    "import numpy as np\n",
    "from numpy import pi\n",
    "from random import randint\n",
    "from numpy.random import uniform, normal\n",
    "from jitcsim.visualization import plot_order\n",
    "from jitcsim.models.kuramoto import Kuramoto_I"
   ]
  },
  {
   "cell_type": "code",
   "execution_count": 8,
   "id": "painful-comparison",
   "metadata": {},
   "outputs": [],
   "source": [
    "np.random.seed(2)\n",
    "\n",
    "N = 3\n",
    "alpha0 = 0.0\n",
    "coupling0 = 2.0 / (N - 1)\n",
    "omega0 = normal(pi, 0.1, N)\n",
    "initial_state = uniform(-2*pi, 2*pi, N)\n",
    "\n",
    "FeedForward = np.asarray([[0, 0, 0],\n",
    "                          [1, 0, 0],\n",
    "                          [1, 1, 0]])\n",
    "FeedBack = np.asarray([[0, 0, 1],\n",
    "                       [1, 0, 0],\n",
    "                       [0, 1, 0]])\n",
    "\n",
    "parameters = {\n",
    "    'N': N,                             # number of nodes\n",
    "    'adj': FeedForward,                 # adjacency matrix\n",
    "    # \"adj\": FeedBack,\n",
    "    't_initial': 0.,                    # initial time of integration\n",
    "    \"t_final\": 100,                     # final time of integration\n",
    "    't_transition': 0.0,                # transition time\n",
    "    \"interval\": 0.1,                    # time interval for sampling\n",
    "\n",
    "    \"alpha\": alpha0,                    # frustration\n",
    "    \"omega\": omega0,                    # initial angular frequencies\n",
    "    'initial_state': initial_state,     # initial phase of oscillators\n",
    "\n",
    "    'integration_method': 'dopri5',     # integration method\n",
    "    'control': ['coupling'],            # control parameters\n",
    "\n",
    "    \"use_omp\": False,                   # use OpenMP\n",
    "    \"output\": \"data\",                   # output directory\n",
    "}"
   ]
  },
  {
   "cell_type": "code",
   "execution_count": 9,
   "id": "artificial-fleece",
   "metadata": {},
   "outputs": [
    {
     "name": "stdout",
     "output_type": "stream",
     "text": [
      "saving file to data/km704363.so\n"
     ]
    }
   ],
   "source": [
    "parameters[\"modulename\"] = \"km{}\".format(randint(0, 1e6)) # to avoid modulename error\n",
    "# make an instance of the model\n",
    "sol = Kuramoto_I(parameters)\n",
    "# compile the model\n",
    "sol.compile()"
   ]
  },
  {
   "cell_type": "code",
   "execution_count": 10,
   "id": "communist-belgium",
   "metadata": {},
   "outputs": [
    {
     "data": {
      "image/png": "[encoded data removed]",
      "text/plain": [
       "<Figure size 432x288 with 1 Axes>"
      ]
     },
     "metadata": {},
     "output_type": "display_data"
    }
   ],
   "source": [
    "# run the simulation by setting the control parameters\n",
    "controls = [coupling0]\n",
    "data = sol.simulate(controls)\n",
    "x = data['x']\n",
    "t = data['t']\n",
    "\n",
    "# calculate the Kuramoto order parameter\n",
    "order = sol.order_parameter(x)\n",
    "\n",
    "# plot order parameter vs time\n",
    "plot_order(t,\n",
    "           order,\n",
    "           filename=\"data/06.png\",\n",
    "           xlabel=\"time\", \n",
    "           ylabel=\"r(t)\", \n",
    "           close_fig=False);"
   ]
  },
  {
   "cell_type": "markdown",
   "id": "living-botswana",
   "metadata": {},
   "source": [
    "To use another network, we need to compile the code again, adjacency matrix is not among the variables that could be considered as parameter."
   ]
  },
  {
   "cell_type": "code",
   "execution_count": 11,
   "id": "still-vector",
   "metadata": {},
   "outputs": [
    {
     "name": "stdout",
     "output_type": "stream",
     "text": [
      "saving file to data/km743844.so\n"
     ]
    }
   ],
   "source": [
    "parameters[\"modulename\"] = \"km{}\".format(randint(0, 1e6)) # to avoid modulename error\n",
    "parameters['adj'] = FeedBack\n",
    "sol = Kuramoto_I(parameters)\n",
    "sol.compile()"
   ]
  },
  {
   "cell_type": "code",
   "execution_count": 12,
   "id": "brief-toronto",
   "metadata": {},
   "outputs": [
    {
     "data": {
      "image/png": "[encoded data removed]",
      "text/plain": [
       "<Figure size 432x288 with 1 Axes>"
      ]
     },
     "metadata": {},
     "output_type": "display_data"
    }
   ],
   "source": [
    "controls = [coupling0]\n",
    "data = sol.simulate(controls)\n",
    "x = data['x']\n",
    "t = data['t']\n",
    "\n",
    "# calculate the Kuramoto order parameter\n",
    "order = sol.order_parameter(x)\n",
    "\n",
    "# plot order parameter vs time\n",
    "plot_order(t,\n",
    "           order,\n",
    "           filename=\"data/fb.png\",\n",
    "           xlabel=\"time\", \n",
    "           ylabel=\"r(t)\", \n",
    "           close_fig=False);"
   ]
  },
  {
   "cell_type": "code",
   "execution_count": null,
   "id": "descending-cooperation",
   "metadata": {},
   "outputs": [],
   "source": []
  }
 ],
 "metadata": {
  "kernelspec": {
   "display_name": "Python 3",
   "language": "python",
   "name": "python3"
  },
  "language_info": {
   "codemirror_mode": {
    "name": "ipython",
    "version": 3
   },
   "file_extension": ".py",
   "mimetype": "text/x-python",
   "name": "python",
   "nbconvert_exporter": "python",
   "pygments_lexer": "ipython3",
   "version": "3.8.10"
  },
  "metadata": {
   "interpreter": {
    "hash": "916dbcbb3f70747c44a77c7bcd40155683ae19c65e1c03b4aa3499c5328201f1"
   }
  }
 },
 "nbformat": 4,
 "nbformat_minor": 5
}
