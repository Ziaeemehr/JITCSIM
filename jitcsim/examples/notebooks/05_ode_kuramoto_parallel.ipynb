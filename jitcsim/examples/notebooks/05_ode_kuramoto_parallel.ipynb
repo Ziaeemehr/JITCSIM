{
 "cells": [
  {
   "cell_type": "markdown",
   "id": "declared-request",
   "metadata": {},
   "source": [
    "# jitcsim tutorial"
   ]
  },
  {
   "cell_type": "markdown",
   "id": "hungry-prior",
   "metadata": {},
   "source": [
    "### Simulation of the Kuramoto model.\n",
    "The parameters are coupling and the initial angular frequencies.\n",
    "The initial phase also could be changed in repeated simulations.\n",
    "The output is plotting the time average of order parameter vs \n",
    "strength of the coupling.\n",
    "This is exampel is run in parallel using multiprocessing."
   ]
  },
  {
   "cell_type": "code",
   "execution_count": 1,
   "id": "liable-dining",
   "metadata": {},
   "outputs": [],
   "source": [
    "import numpy as np\n",
    "from numpy import pi\n",
    "from time import time\n",
    "import networkx as nx\n",
    "from random import randint\n",
    "from multiprocessing import Pool\n",
    "from jitcsim.utility import flatten\n",
    "from numpy.random import uniform, normal\n",
    "from jitcsim.visualization import plot_order\n",
    "from jitcsim.models.kuramoto import Kuramoto_II"
   ]
  },
  {
   "cell_type": "code",
   "execution_count": 2,
   "id": "heard-province",
   "metadata": {},
   "outputs": [],
   "source": [
    "np.random.seed(1)\n",
    "N = 50                                          # number of nodes\n",
    "num_ensembles = 100                             # number of ensembles\n",
    "num_processes = 4                               # number of processes\n",
    "\n",
    "alpha0 = 0.0                                    # frustration\n",
    "omega0 = normal(0, 0.1, N)                      # initial angular frequencies\n",
    "initial_state = uniform(-pi, pi, N)             # initial phases\n",
    "adj = nx.to_numpy_array(nx.complete_graph(N),\n",
    "                        dtype=int)              # adjacency matrix\n",
    "\n",
    "parameters = {\n",
    "    'N': N,\n",
    "    'adj': adj,\n",
    "    't_initial': 0.,\n",
    "    \"t_final\": 100,\n",
    "    't_transition': 2.0,\n",
    "    \"interval\": 1.0,                    # time interval for sampling\n",
    "    'initial_state': initial_state,\n",
    "    'integration_method': 'dopri5',\n",
    "    \"alpha\": alpha0,\n",
    "    'control': ['coupling', 'omega'],\n",
    "    \"use_omp\": False,\n",
    "    \"output\": \"data\",\n",
    "    \"modulename\": \"km\"\n",
    "}"
   ]
  },
  {
   "cell_type": "code",
   "execution_count": 3,
   "id": "thick-april",
   "metadata": {},
   "outputs": [],
   "source": [
    "def run_for_each(coupl):\n",
    "\n",
    "    \"\"\"\n",
    "    run the simulation for each coupling\n",
    "    The initial state and frequencies are changed.\n",
    "    \"\"\"\n",
    "\n",
    "    omega0 = normal(0, 0.1, N)\n",
    "    controls = flatten([[coupl], omega0])\n",
    "    I = Kuramoto_II(parameters)\n",
    "    I.set_initial_state(uniform(-pi, pi, N))\n",
    "    data = I.simulate(controls)\n",
    "    x = data['x']\n",
    "    order = np.mean(I.order_parameter(x))\n",
    "\n",
    "    return order\n"
   ]
  },
  {
   "cell_type": "code",
   "execution_count": 7,
   "id": "vertical-regression",
   "metadata": {},
   "outputs": [
    {
     "name": "stdout",
     "output_type": "stream",
     "text": [
      "saving file to data/km968481.so\n",
      "Compile time : 5.379 secondes.\n"
     ]
    }
   ],
   "source": [
    "parameters[\"modulename\"] = \"km{}\".format(randint(0, 1e6)) # to avoid modulename error\n",
    "sol = Kuramoto_II(parameters)\n",
    "compile_time = time()\n",
    "sol.compile()\n",
    "print(\"Compile time : {:.3f} secondes.\".format(time() - compile_time))"
   ]
  },
  {
   "cell_type": "code",
   "execution_count": 8,
   "id": "coated-excuse",
   "metadata": {},
   "outputs": [
    {
     "name": "stdout",
     "output_type": "stream",
     "text": [
      "Simulation time: 27.188 seconds\n"
     ]
    }
   ],
   "source": [
    "start_time = time()\n",
    "couplings = np.arange(0, 0.8, 0.05) / (N-1)\n",
    "\n",
    "par = []\n",
    "for i in range(len(couplings)):\n",
    "    for j in range(num_ensembles):\n",
    "        par.append(couplings[i])\n",
    "\n",
    "with Pool(processes=num_processes) as pool:\n",
    "    orders = (pool.map(run_for_each, par))\n",
    "orders = np.reshape(orders, (len(couplings), num_ensembles))\n",
    "\n",
    "print(\"Simulation time: {:.3f} seconds\".format(time()-start_time))\n"
   ]
  },
  {
   "cell_type": "code",
   "execution_count": 6,
   "id": "threaded-buddy",
   "metadata": {},
   "outputs": [
    {
     "data": {
      "image/png": "[encoded data removed]",
      "text/plain": [
       "<Figure size 432x288 with 1 Axes>"
      ]
     },
     "metadata": {},
     "output_type": "display_data"
    }
   ],
   "source": [
    "# plotting time average of the order parameters vs coupling\n",
    "plot_order(couplings,\n",
    "           np.mean(orders, axis=1),\n",
    "           filename=\"data/05.png\",\n",
    "           ylabel=\"R\", \n",
    "           xlabel=\"coupling\",\n",
    "           close_fig=False);\n"
   ]
  },
  {
   "cell_type": "code",
   "execution_count": null,
   "id": "durable-intelligence",
   "metadata": {},
   "outputs": [],
   "source": []
  }
 ],
 "metadata": {
  "kernelspec": {
   "display_name": "Python 3",
   "language": "python",
   "name": "python3"
  },
  "language_info": {
   "codemirror_mode": {
    "name": "ipython",
    "version": 3
   },
   "file_extension": ".py",
   "mimetype": "text/x-python",
   "name": "python",
   "nbconvert_exporter": "python",
   "pygments_lexer": "ipython3",
   "version": "3.8.10"
  },
  "metadata": {
   "interpreter": {
    "hash": "916dbcbb3f70747c44a77c7bcd40155683ae19c65e1c03b4aa3499c5328201f1"
   }
  }
 },
 "nbformat": 4,
 "nbformat_minor": 5
}
