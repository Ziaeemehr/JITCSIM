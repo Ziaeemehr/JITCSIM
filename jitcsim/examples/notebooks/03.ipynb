{
 "cells": [
  {
   "cell_type": "markdown",
   "id": "broken-buying",
   "metadata": {},
   "source": [
    "# jitcsim tutorial"
   ]
  },
  {
   "cell_type": "markdown",
   "id": "different-graham",
   "metadata": {},
   "source": [
    "### Simulation of the Kuramoto model.\n",
    "The parameter of the model is coupling.\n",
    "The initial phase also could be changed in repeated simulations.\n",
    "The output is plotting the time average of the Kuramoto order parameter vs coupling.\n",
    "This is exampel is run in parallel using multiprocessing.\n",
    "\n",
    "see also: example : 01, 02 and 03*.py\n"
   ]
  },
  {
   "cell_type": "code",
   "execution_count": 1,
   "id": "solid-privacy",
   "metadata": {},
   "outputs": [],
   "source": [
    "import numpy as np\n",
    "from numpy import pi\n",
    "import networkx as nx\n",
    "from time import time\n",
    "from multiprocessing import Pool\n",
    "from numpy.random import uniform, normal\n",
    "from jitcsim.visualization import plot_order\n",
    "from jitcsim.models.kuramoto import Kuramoto_II"
   ]
  },
  {
   "cell_type": "code",
   "execution_count": 2,
   "id": "artistic-showcase",
   "metadata": {},
   "outputs": [],
   "source": [
    "np.random.seed(1)\n",
    "\n",
    "N = 50\n",
    "num_ensembles = 100\n",
    "num_processes = 4\n",
    "alpha0 = 0.0\n",
    "omega0 = normal(0, 0.1, N)\n",
    "initial_state = uniform(-pi, pi, N)\n",
    "adj = nx.to_numpy_array(nx.complete_graph(N))\n",
    "\n",
    "parameters = {\n",
    "    'N': N,\n",
    "    'adj': adj,\n",
    "    't_initial': 0.,\n",
    "    \"t_final\": 100,\n",
    "    't_transition': 20.0,\n",
    "    \"interval\": 1.0,                    # time interval for sampling\n",
    "\n",
    "    \"alpha\": alpha0,\n",
    "    \"omega\": omega0,\n",
    "    'initial_state': initial_state,\n",
    "\n",
    "    'integration_method': 'dopri5',\n",
    "    'control': ['coupling'],\n",
    "    \"use_omp\": False,\n",
    "    \"output\": \"data\",\n",
    "}"
   ]
  },
  {
   "cell_type": "code",
   "execution_count": 3,
   "id": "driven-learning",
   "metadata": {},
   "outputs": [],
   "source": [
    "def run_for_each(coupl):\n",
    "\n",
    "    controls = [coupl]\n",
    "    I = Kuramoto_II(parameters)\n",
    "    I.set_initial_state(uniform(-pi, pi, N))\n",
    "    data = I.simulate(controls)\n",
    "    x = data['x']\n",
    "    order = np.mean(I.order_parameter(x))\n",
    "\n",
    "    return order"
   ]
  },
  {
   "cell_type": "code",
   "execution_count": 4,
   "id": "collected-transaction",
   "metadata": {},
   "outputs": [
    {
     "name": "stdout",
     "output_type": "stream",
     "text": [
      "saving file to data/km.so\n",
      "Compile time : 5.093 secondes.\n"
     ]
    }
   ],
   "source": [
    "# make an instance of the model\n",
    "sol = Kuramoto_II(parameters)\n",
    "compile_time = time()\n",
    "sol.compile()\n",
    "print(\"Compile time : {:.3f} secondes.\".format(time() - compile_time))"
   ]
  },
  {
   "cell_type": "code",
   "execution_count": 5,
   "id": "abandoned-titanium",
   "metadata": {},
   "outputs": [
    {
     "name": "stdout",
     "output_type": "stream",
     "text": [
      "Simulation time: 20.476 seconds\n"
     ]
    }
   ],
   "source": [
    "start_time = time()\n",
    "\n",
    "# define an array for the strength of couplings\n",
    "couplings = np.arange(0, 0.8, 0.05) / (N-1)\n",
    "\n",
    "# prepare parameters for run in parallel\n",
    "par = []\n",
    "for i in range(len(couplings)):\n",
    "    for j in range(num_ensembles):\n",
    "        par.append(couplings[i])\n",
    "\n",
    "with Pool(processes=num_processes) as pool:\n",
    "    orders = (pool.map(run_for_each, par))\n",
    "orders = np.reshape(orders, (len(couplings), num_ensembles))\n",
    "\n",
    "print(\"Simulation time: {:.3f} seconds\".format(time()-start_time))\n"
   ]
  },
  {
   "cell_type": "code",
   "execution_count": 6,
   "id": "exact-cameroon",
   "metadata": {
    "scrolled": true
   },
   "outputs": [
    {
     "data": {
      "image/png": "[encoded data removed]",
      "text/plain": [
       "<Figure size 432x288 with 1 Axes>"
      ]
     },
     "metadata": {},
     "output_type": "display_data"
    }
   ],
   "source": [
    "# plotting time average of the order parameters vs coupling\n",
    "plot_order(couplings,\n",
    "           np.mean(orders, axis=1),\n",
    "           filename=\"data/03.png\",\n",
    "           ylabel=\"R\", \n",
    "           xlabel=\"coupling\",\n",
    "           close_fig=False);"
   ]
  },
  {
   "cell_type": "code",
   "execution_count": null,
   "id": "willing-platinum",
   "metadata": {},
   "outputs": [],
   "source": []
  }
 ],
 "metadata": {
  "kernelspec": {
   "display_name": "Python 3",
   "language": "python",
   "name": "python3"
  },
  "language_info": {
   "codemirror_mode": {
    "name": "ipython",
    "version": 3
   },
   "file_extension": ".py",
   "mimetype": "text/x-python",
   "name": "python",
   "nbconvert_exporter": "python",
   "pygments_lexer": "ipython3",
   "version": "3.8.10"
  }
 },
 "nbformat": 4,
 "nbformat_minor": 5
}
