{
 "cells": [
  {
   "cell_type": "code",
   "execution_count": 7,
   "id": "d0a617f1-df9d-40e2-a988-901ca0375a33",
   "metadata": {},
   "outputs": [],
   "source": [
    "import numpy as np \n",
    "from os.path import join"
   ]
  },
  {
   "cell_type": "code",
   "execution_count": 8,
   "id": "56da37f4-9bb9-4a16-b391-6fa6f418603e",
   "metadata": {},
   "outputs": [],
   "source": [
    "weights = np.loadtxt(join(\"data\", \"connectivity_84\", \"weights.txt\"))"
   ]
  },
  {
   "cell_type": "code",
   "execution_count": 9,
   "id": "3355a1dc-8eee-4e01-93da-6a03c4ac63d8",
   "metadata": {},
   "outputs": [
    {
     "name": "stdout",
     "output_type": "stream",
     "text": [
      "0.0\n"
     ]
    }
   ],
   "source": [
    "print(np.trace(weights))"
   ]
  },
  {
   "cell_type": "code",
   "execution_count": null,
   "id": "c8dd1134-59c4-4db5-a51b-37b9579b9b8a",
   "metadata": {},
   "outputs": [],
   "source": []
  }
 ],
 "metadata": {
  "kernelspec": {
   "display_name": "Python 3 (ipykernel)",
   "language": "python",
   "name": "python3"
  },
  "language_info": {
   "codemirror_mode": {
    "name": "ipython",
    "version": 3
   },
   "file_extension": ".py",
   "mimetype": "text/x-python",
   "name": "python",
   "nbconvert_exporter": "python",
   "pygments_lexer": "ipython3",
   "version": "3.9.7"
  }
 },
 "nbformat": 4,
 "nbformat_minor": 5
}
