{
 "cells": [
  {
   "cell_type": "markdown",
   "metadata": {},
   "source": [
    "# jitcsim tutorial"
   ]
  },
  {
   "cell_type": "markdown",
   "metadata": {},
   "source": [
    "### Simulation of the Kuramoto model.\n",
    "The parameters are coupling and the initial angular frequencies.\n",
    "The initial phase also could be changed in repeated simulations.\n",
    "The output is plotting the time average of order parameter vs \n",
    "strength of the coupling.\n"
   ]
  },
  {
   "cell_type": "code",
   "execution_count": 1,
   "metadata": {},
   "outputs": [],
   "source": [
    "import numpy as np\n",
    "import pylab as plt\n",
    "from numpy import pi\n",
    "import networkx as nx\n",
    "from jitcsim.utility import flatten\n",
    "from numpy.random import uniform, normal\n",
    "from jitcsim.visualization import plot_order\n",
    "from jitcsim.models.kuramoto import Kuramoto_II"
   ]
  },
  {
   "cell_type": "code",
   "execution_count": 2,
   "metadata": {},
   "outputs": [],
   "source": [
    "np.random.seed(1)\n",
    "\n",
    "N = 50\n",
    "coupling0 = 0.3 / (N - 1)\n",
    "alpha0 = 0.0\n",
    "omega0 = normal(0, 0.1, N)\n",
    "initial_state = uniform(-pi, pi, N)\n",
    "adj = nx.to_numpy_array(nx.complete_graph(N))\n",
    "\n",
    "parameters = {\n",
    "    'N': N,\n",
    "    'adj': adj,\n",
    "    't_initial': 0.,\n",
    "    \"t_final\": 100,\n",
    "    't_transition': 2.0,\n",
    "    \"interval\": 1.0,                    # time interval for sampling\n",
    "    'initial_state': initial_state,\n",
    "    'integration_method': 'dopri5',\n",
    "    \"alpha\" : alpha0,\n",
    "    'control': ['coupling', 'omega'],\n",
    "    \"use_omp\": False,\n",
    "    \"output\": \"data\",\n",
    "    \"modulename\": \"km\"                  # compiled filename\n",
    "}"
   ]
  },
  {
   "cell_type": "code",
   "execution_count": 3,
   "metadata": {},
   "outputs": [
    {
     "name": "stdout",
     "output_type": "stream",
     "text": [
      "compiled C code\n"
     ]
    }
   ],
   "source": [
    "controls = flatten([[coupling0], omega0])\n",
    "sol = Kuramoto_II(parameters)\n",
    "sol.compile()"
   ]
  },
  {
   "cell_type": "code",
   "execution_count": 4,
   "metadata": {},
   "outputs": [],
   "source": [
    "data = sol.simulate(controls)\n",
    "x = data['x']\n",
    "t = data['t']\n",
    "order = sol.order_parameter(x)"
   ]
  },
  {
   "cell_type": "code",
   "execution_count": 5,
   "metadata": {},
   "outputs": [
    {
     "data": {
      "image/png": "[encoded data removed]",
      "text/plain": [
       "<Figure size 432x288 with 1 Axes>"
      ]
     },
     "metadata": {},
     "output_type": "display_data"
    }
   ],
   "source": [
    "plot_order(t,\n",
    "           order,\n",
    "           \"data/04.png\",\n",
    "           xlabel=\"time\", \n",
    "           ylabel=\"r(t)\",\n",
    "           close_fig=False);"
   ]
  },
  {
   "cell_type": "code",
   "execution_count": null,
   "metadata": {},
   "outputs": [],
   "source": []
  }
 ],
 "metadata": {
  "language_info": {},
  "orig_nbformat": 3
 },
 "nbformat": 4,
 "nbformat_minor": 5
}